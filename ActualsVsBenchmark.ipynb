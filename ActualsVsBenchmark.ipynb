{
 "cells": [
  {
   "cell_type": "markdown",
   "metadata": {},
   "source": [
    "# Comparing actuals with benchmark, using pandas"
   ]
  },
  {
   "cell_type": "markdown",
   "metadata": {},
   "source": [
    "In this exercise we will get, prepare and merge data from 3 different sources in order to make a visual comparison. We have the follwing data:\n",
    "1. order data in an Excel file\n",
    "2. customer data in a csv file\n",
    "3. sales benchmark data in an html file"
   ]
  },
  {
   "cell_type": "code",
   "execution_count": 1,
   "metadata": {
    "collapsed": true
   },
   "outputs": [],
   "source": [
    "%matplotlib inline\n",
    "\n",
    "import numpy as np\n",
    "import pandas as pd\n",
    "import matplotlib.pyplot as plt\n"
   ]
  },
  {
   "cell_type": "code",
   "execution_count": 2,
   "metadata": {},
   "outputs": [
    {
     "data": {
      "text/plain": [
       "'C:\\\\Users\\\\Analyst\\\\surfdrive\\\\Sync\\\\17-18\\\\1\\\\Machine Learning\\\\Python\\\\Notebooks\\\\playground\\\\ActualsBenchmark'"
      ]
     },
     "execution_count": 2,
     "metadata": {},
     "output_type": "execute_result"
    }
   ],
   "source": [
    "%pwd"
   ]
  },
  {
   "cell_type": "markdown",
   "metadata": {},
   "source": [
    "First read the benchmarkdata from the html file. Pandas's read_html() facility depends on the html5lib package which in its turn depends on the beautifulsoup package.\n",
    "\n",
    "read_html returns a list of pandas dataframes. One for each table it encounters on the html page."
   ]
  },
  {
   "cell_type": "code",
   "execution_count": 3,
   "metadata": {},
   "outputs": [
    {
     "data": {
      "text/html": [
       "<div>\n",
       "<style>\n",
       "    .dataframe thead tr:only-child th {\n",
       "        text-align: right;\n",
       "    }\n",
       "\n",
       "    .dataframe thead th {\n",
       "        text-align: left;\n",
       "    }\n",
       "\n",
       "    .dataframe tbody tr th {\n",
       "        vertical-align: top;\n",
       "    }\n",
       "</style>\n",
       "<table border=\"1\" class=\"dataframe\">\n",
       "  <thead>\n",
       "    <tr style=\"text-align: right;\">\n",
       "      <th></th>\n",
       "      <th>Plaats</th>\n",
       "      <th>Maand</th>\n",
       "      <th>18-24</th>\n",
       "      <th>25-39</th>\n",
       "      <th>40-58</th>\n",
       "      <th>59-69</th>\n",
       "      <th>70-100</th>\n",
       "    </tr>\n",
       "  </thead>\n",
       "  <tbody>\n",
       "    <tr>\n",
       "      <th>0</th>\n",
       "      <td>Best</td>\n",
       "      <td>jan</td>\n",
       "      <td>68</td>\n",
       "      <td>76</td>\n",
       "      <td>76</td>\n",
       "      <td>122</td>\n",
       "      <td>108</td>\n",
       "    </tr>\n",
       "    <tr>\n",
       "      <th>1</th>\n",
       "      <td>Eindhoven</td>\n",
       "      <td>jan</td>\n",
       "      <td>93</td>\n",
       "      <td>60</td>\n",
       "      <td>60</td>\n",
       "      <td>72</td>\n",
       "      <td>137</td>\n",
       "    </tr>\n",
       "    <tr>\n",
       "      <th>2</th>\n",
       "      <td>Helmond</td>\n",
       "      <td>jan</td>\n",
       "      <td>70</td>\n",
       "      <td>99</td>\n",
       "      <td>68</td>\n",
       "      <td>70</td>\n",
       "      <td>124</td>\n",
       "    </tr>\n",
       "    <tr>\n",
       "      <th>3</th>\n",
       "      <td>Nuenen</td>\n",
       "      <td>jan</td>\n",
       "      <td>48</td>\n",
       "      <td>68</td>\n",
       "      <td>85</td>\n",
       "      <td>37</td>\n",
       "      <td>44</td>\n",
       "    </tr>\n",
       "    <tr>\n",
       "      <th>4</th>\n",
       "      <td>Veldhoven</td>\n",
       "      <td>jan</td>\n",
       "      <td>91</td>\n",
       "      <td>105</td>\n",
       "      <td>68</td>\n",
       "      <td>112</td>\n",
       "      <td>144</td>\n",
       "    </tr>\n",
       "  </tbody>\n",
       "</table>\n",
       "</div>"
      ],
      "text/plain": [
       "      Plaats Maand  18-24  25-39  40-58  59-69  70-100\n",
       "0       Best   jan     68     76     76    122     108\n",
       "1  Eindhoven   jan     93     60     60     72     137\n",
       "2    Helmond   jan     70     99     68     70     124\n",
       "3     Nuenen   jan     48     68     85     37      44\n",
       "4  Veldhoven   jan     91    105     68    112     144"
      ]
     },
     "execution_count": 3,
     "metadata": {},
     "output_type": "execute_result"
    }
   ],
   "source": [
    "import html5lib\n",
    "\n",
    "df_bm = pd.read_html('dummytxt.html')[0]\n",
    "df_bm.head()"
   ]
  },
  {
   "cell_type": "markdown",
   "metadata": {},
   "source": [
    "Modify the dataframe from wide to long format in order to be able to merge."
   ]
  },
  {
   "cell_type": "code",
   "execution_count": 4,
   "metadata": {},
   "outputs": [
    {
     "data": {
      "text/html": [
       "<div>\n",
       "<style>\n",
       "    .dataframe thead tr:only-child th {\n",
       "        text-align: right;\n",
       "    }\n",
       "\n",
       "    .dataframe thead th {\n",
       "        text-align: left;\n",
       "    }\n",
       "\n",
       "    .dataframe tbody tr th {\n",
       "        vertical-align: top;\n",
       "    }\n",
       "</style>\n",
       "<table border=\"1\" class=\"dataframe\">\n",
       "  <thead>\n",
       "    <tr style=\"text-align: right;\">\n",
       "      <th></th>\n",
       "      <th>Plaats</th>\n",
       "      <th>Maand</th>\n",
       "      <th>Segment</th>\n",
       "      <th>Benchmark</th>\n",
       "    </tr>\n",
       "  </thead>\n",
       "  <tbody>\n",
       "    <tr>\n",
       "      <th>0</th>\n",
       "      <td>Best</td>\n",
       "      <td>jan</td>\n",
       "      <td>18-24</td>\n",
       "      <td>68</td>\n",
       "    </tr>\n",
       "    <tr>\n",
       "      <th>1</th>\n",
       "      <td>Eindhoven</td>\n",
       "      <td>jan</td>\n",
       "      <td>18-24</td>\n",
       "      <td>93</td>\n",
       "    </tr>\n",
       "    <tr>\n",
       "      <th>2</th>\n",
       "      <td>Helmond</td>\n",
       "      <td>jan</td>\n",
       "      <td>18-24</td>\n",
       "      <td>70</td>\n",
       "    </tr>\n",
       "    <tr>\n",
       "      <th>3</th>\n",
       "      <td>Nuenen</td>\n",
       "      <td>jan</td>\n",
       "      <td>18-24</td>\n",
       "      <td>48</td>\n",
       "    </tr>\n",
       "    <tr>\n",
       "      <th>4</th>\n",
       "      <td>Veldhoven</td>\n",
       "      <td>jan</td>\n",
       "      <td>18-24</td>\n",
       "      <td>91</td>\n",
       "    </tr>\n",
       "  </tbody>\n",
       "</table>\n",
       "</div>"
      ],
      "text/plain": [
       "      Plaats Maand Segment  Benchmark\n",
       "0       Best   jan   18-24         68\n",
       "1  Eindhoven   jan   18-24         93\n",
       "2    Helmond   jan   18-24         70\n",
       "3     Nuenen   jan   18-24         48\n",
       "4  Veldhoven   jan   18-24         91"
      ]
     },
     "execution_count": 4,
     "metadata": {},
     "output_type": "execute_result"
    }
   ],
   "source": [
    "df_bm = df_bm.melt(id_vars=['Plaats', 'Maand'], var_name='Segment', value_name='Benchmark')\n",
    "\n",
    "df_bm.head()"
   ]
  },
  {
   "cell_type": "markdown",
   "metadata": {},
   "source": [
    "Read order data from the Excel file."
   ]
  },
  {
   "cell_type": "code",
   "execution_count": 5,
   "metadata": {
    "scrolled": false
   },
   "outputs": [
    {
     "data": {
      "text/html": [
       "<div>\n",
       "<style>\n",
       "    .dataframe thead tr:only-child th {\n",
       "        text-align: right;\n",
       "    }\n",
       "\n",
       "    .dataframe thead th {\n",
       "        text-align: left;\n",
       "    }\n",
       "\n",
       "    .dataframe tbody tr th {\n",
       "        vertical-align: top;\n",
       "    }\n",
       "</style>\n",
       "<table border=\"1\" class=\"dataframe\">\n",
       "  <thead>\n",
       "    <tr style=\"text-align: right;\">\n",
       "      <th></th>\n",
       "      <th>nr</th>\n",
       "      <th>datum</th>\n",
       "      <th>bedrag</th>\n",
       "    </tr>\n",
       "  </thead>\n",
       "  <tbody>\n",
       "    <tr>\n",
       "      <th>0</th>\n",
       "      <td>1009</td>\n",
       "      <td>2017-01-03</td>\n",
       "      <td>106</td>\n",
       "    </tr>\n",
       "    <tr>\n",
       "      <th>1</th>\n",
       "      <td>1012</td>\n",
       "      <td>2017-01-03</td>\n",
       "      <td>55</td>\n",
       "    </tr>\n",
       "    <tr>\n",
       "      <th>2</th>\n",
       "      <td>1006</td>\n",
       "      <td>2017-01-09</td>\n",
       "      <td>37</td>\n",
       "    </tr>\n",
       "  </tbody>\n",
       "</table>\n",
       "</div>"
      ],
      "text/plain": [
       "     nr      datum  bedrag\n",
       "0  1009 2017-01-03     106\n",
       "1  1012 2017-01-03      55\n",
       "2  1006 2017-01-09      37"
      ]
     },
     "execution_count": 5,
     "metadata": {},
     "output_type": "execute_result"
    }
   ],
   "source": [
    "df_ord = pd.read_excel('opdracht.xlsx', sheetname='sales')\n",
    "df_ord.head(3)"
   ]
  },
  {
   "cell_type": "markdown",
   "metadata": {},
   "source": [
    "Verify the the datum column is in the proper date format."
   ]
  },
  {
   "cell_type": "code",
   "execution_count": 6,
   "metadata": {},
   "outputs": [
    {
     "data": {
      "text/plain": [
       "nr                 int64\n",
       "datum     datetime64[ns]\n",
       "bedrag             int64\n",
       "dtype: object"
      ]
     },
     "execution_count": 6,
     "metadata": {},
     "output_type": "execute_result"
    }
   ],
   "source": [
    "df_ord.dtypes"
   ]
  },
  {
   "cell_type": "markdown",
   "metadata": {},
   "source": [
    "Read customer data from the csv file. Skip the rows containing comment."
   ]
  },
  {
   "cell_type": "code",
   "execution_count": 7,
   "metadata": {},
   "outputs": [
    {
     "data": {
      "text/html": [
       "<div>\n",
       "<style>\n",
       "    .dataframe thead tr:only-child th {\n",
       "        text-align: right;\n",
       "    }\n",
       "\n",
       "    .dataframe thead th {\n",
       "        text-align: left;\n",
       "    }\n",
       "\n",
       "    .dataframe tbody tr th {\n",
       "        vertical-align: top;\n",
       "    }\n",
       "</style>\n",
       "<table border=\"1\" class=\"dataframe\">\n",
       "  <thead>\n",
       "    <tr style=\"text-align: right;\">\n",
       "      <th></th>\n",
       "      <th>nr</th>\n",
       "      <th>naam</th>\n",
       "      <th>gesl</th>\n",
       "      <th>gebdat</th>\n",
       "      <th>wpl</th>\n",
       "      <th>vooropl</th>\n",
       "      <th>tel</th>\n",
       "    </tr>\n",
       "  </thead>\n",
       "  <tbody>\n",
       "    <tr>\n",
       "      <th>0</th>\n",
       "      <td>1004</td>\n",
       "      <td>tinus</td>\n",
       "      <td>m</td>\n",
       "      <td>26-01-1983</td>\n",
       "      <td>nue</td>\n",
       "      <td>VO</td>\n",
       "      <td>06-52477478</td>\n",
       "    </tr>\n",
       "    <tr>\n",
       "      <th>1</th>\n",
       "      <td>1005</td>\n",
       "      <td>henk</td>\n",
       "      <td>m</td>\n",
       "      <td>04-12-1961</td>\n",
       "      <td>nue</td>\n",
       "      <td>HBO</td>\n",
       "      <td>06-49945368</td>\n",
       "    </tr>\n",
       "    <tr>\n",
       "      <th>2</th>\n",
       "      <td>1006</td>\n",
       "      <td>lars</td>\n",
       "      <td>m</td>\n",
       "      <td>06-07-1967</td>\n",
       "      <td>ehv</td>\n",
       "      <td>VO</td>\n",
       "      <td>06-42766537</td>\n",
       "    </tr>\n",
       "  </tbody>\n",
       "</table>\n",
       "</div>"
      ],
      "text/plain": [
       "     nr   naam gesl      gebdat  wpl vooropl          tel\n",
       "0  1004  tinus    m  26-01-1983  nue      VO  06-52477478\n",
       "1  1005   henk    m  04-12-1961  nue     HBO  06-49945368\n",
       "2  1006   lars    m  06-07-1967  ehv      VO  06-42766537"
      ]
     },
     "execution_count": 7,
     "metadata": {},
     "output_type": "execute_result"
    }
   ],
   "source": [
    "df_cust = pd.read_csv('Klanten.csv', skiprows=8)\n",
    "df_cust.head(3)"
   ]
  },
  {
   "cell_type": "markdown",
   "metadata": {},
   "source": [
    "Expand the abbreviated city name to its full name so we can merge with customer data."
   ]
  },
  {
   "cell_type": "code",
   "execution_count": 8,
   "metadata": {
    "scrolled": false
   },
   "outputs": [
    {
     "data": {
      "text/html": [
       "<div>\n",
       "<style>\n",
       "    .dataframe thead tr:only-child th {\n",
       "        text-align: right;\n",
       "    }\n",
       "\n",
       "    .dataframe thead th {\n",
       "        text-align: left;\n",
       "    }\n",
       "\n",
       "    .dataframe tbody tr th {\n",
       "        vertical-align: top;\n",
       "    }\n",
       "</style>\n",
       "<table border=\"1\" class=\"dataframe\">\n",
       "  <thead>\n",
       "    <tr style=\"text-align: right;\">\n",
       "      <th></th>\n",
       "      <th>nr</th>\n",
       "      <th>naam</th>\n",
       "      <th>gesl</th>\n",
       "      <th>gebdat</th>\n",
       "      <th>wpl</th>\n",
       "      <th>vooropl</th>\n",
       "      <th>tel</th>\n",
       "      <th>woonplaats</th>\n",
       "    </tr>\n",
       "  </thead>\n",
       "  <tbody>\n",
       "    <tr>\n",
       "      <th>0</th>\n",
       "      <td>1004</td>\n",
       "      <td>tinus</td>\n",
       "      <td>m</td>\n",
       "      <td>26-01-1983</td>\n",
       "      <td>nue</td>\n",
       "      <td>VO</td>\n",
       "      <td>06-52477478</td>\n",
       "      <td>Nuenen</td>\n",
       "    </tr>\n",
       "    <tr>\n",
       "      <th>1</th>\n",
       "      <td>1005</td>\n",
       "      <td>henk</td>\n",
       "      <td>m</td>\n",
       "      <td>04-12-1961</td>\n",
       "      <td>nue</td>\n",
       "      <td>HBO</td>\n",
       "      <td>06-49945368</td>\n",
       "      <td>Nuenen</td>\n",
       "    </tr>\n",
       "    <tr>\n",
       "      <th>2</th>\n",
       "      <td>1019</td>\n",
       "      <td>klara</td>\n",
       "      <td>v</td>\n",
       "      <td>26-07-1962</td>\n",
       "      <td>nue</td>\n",
       "      <td>MBO</td>\n",
       "      <td>06-26209998</td>\n",
       "      <td>Nuenen</td>\n",
       "    </tr>\n",
       "  </tbody>\n",
       "</table>\n",
       "</div>"
      ],
      "text/plain": [
       "     nr   naam gesl      gebdat  wpl vooropl          tel woonplaats\n",
       "0  1004  tinus    m  26-01-1983  nue      VO  06-52477478     Nuenen\n",
       "1  1005   henk    m  04-12-1961  nue     HBO  06-49945368     Nuenen\n",
       "2  1019  klara    v  26-07-1962  nue     MBO  06-26209998     Nuenen"
      ]
     },
     "execution_count": 8,
     "metadata": {},
     "output_type": "execute_result"
    }
   ],
   "source": [
    "df_wpl = pd.DataFrame(data={'wpl': 'ehv hmd nue vhv'.split(), 'woonplaats': 'Eindhoven Helmond Nuenen Veldhoven'.split()})\n",
    "\n",
    "df_cust = df_cust.merge(df_wpl, on='wpl')\n",
    "\n",
    "df_cust.head(3)"
   ]
  },
  {
   "cell_type": "markdown",
   "metadata": {},
   "source": [
    "Verify the the datum column is in the proper date format."
   ]
  },
  {
   "cell_type": "code",
   "execution_count": 9,
   "metadata": {},
   "outputs": [
    {
     "data": {
      "text/plain": [
       "dtype('O')"
      ]
     },
     "execution_count": 9,
     "metadata": {},
     "output_type": "execute_result"
    }
   ],
   "source": [
    "df_cust['gebdat'].dtypes"
   ]
  },
  {
   "cell_type": "markdown",
   "metadata": {},
   "source": [
    "Date as string. That's no good: change to pandas datetime type."
   ]
  },
  {
   "cell_type": "code",
   "execution_count": 10,
   "metadata": {},
   "outputs": [
    {
     "name": "stdout",
     "output_type": "stream",
     "text": [
      "datetime64[ns]\n"
     ]
    },
    {
     "data": {
      "text/html": [
       "<div>\n",
       "<style>\n",
       "    .dataframe thead tr:only-child th {\n",
       "        text-align: right;\n",
       "    }\n",
       "\n",
       "    .dataframe thead th {\n",
       "        text-align: left;\n",
       "    }\n",
       "\n",
       "    .dataframe tbody tr th {\n",
       "        vertical-align: top;\n",
       "    }\n",
       "</style>\n",
       "<table border=\"1\" class=\"dataframe\">\n",
       "  <thead>\n",
       "    <tr style=\"text-align: right;\">\n",
       "      <th></th>\n",
       "      <th>nr</th>\n",
       "      <th>naam</th>\n",
       "      <th>gesl</th>\n",
       "      <th>gebdat</th>\n",
       "      <th>wpl</th>\n",
       "      <th>vooropl</th>\n",
       "      <th>tel</th>\n",
       "      <th>woonplaats</th>\n",
       "    </tr>\n",
       "  </thead>\n",
       "  <tbody>\n",
       "    <tr>\n",
       "      <th>0</th>\n",
       "      <td>1004</td>\n",
       "      <td>tinus</td>\n",
       "      <td>m</td>\n",
       "      <td>1983-01-26</td>\n",
       "      <td>nue</td>\n",
       "      <td>VO</td>\n",
       "      <td>06-52477478</td>\n",
       "      <td>Nuenen</td>\n",
       "    </tr>\n",
       "    <tr>\n",
       "      <th>1</th>\n",
       "      <td>1005</td>\n",
       "      <td>henk</td>\n",
       "      <td>m</td>\n",
       "      <td>1961-04-12</td>\n",
       "      <td>nue</td>\n",
       "      <td>HBO</td>\n",
       "      <td>06-49945368</td>\n",
       "      <td>Nuenen</td>\n",
       "    </tr>\n",
       "    <tr>\n",
       "      <th>2</th>\n",
       "      <td>1019</td>\n",
       "      <td>klara</td>\n",
       "      <td>v</td>\n",
       "      <td>1962-07-26</td>\n",
       "      <td>nue</td>\n",
       "      <td>MBO</td>\n",
       "      <td>06-26209998</td>\n",
       "      <td>Nuenen</td>\n",
       "    </tr>\n",
       "  </tbody>\n",
       "</table>\n",
       "</div>"
      ],
      "text/plain": [
       "     nr   naam gesl     gebdat  wpl vooropl          tel woonplaats\n",
       "0  1004  tinus    m 1983-01-26  nue      VO  06-52477478     Nuenen\n",
       "1  1005   henk    m 1961-04-12  nue     HBO  06-49945368     Nuenen\n",
       "2  1019  klara    v 1962-07-26  nue     MBO  06-26209998     Nuenen"
      ]
     },
     "execution_count": 10,
     "metadata": {},
     "output_type": "execute_result"
    }
   ],
   "source": [
    "df_cust['gebdat'] = pd.to_datetime(df_cust['gebdat'])\n",
    "print(df_cust['gebdat'].dtypes)\n",
    "\n",
    "df_cust.head(3)"
   ]
  },
  {
   "cell_type": "markdown",
   "metadata": {},
   "source": [
    "Calculate age from date of birth (gebdat)."
   ]
  },
  {
   "cell_type": "code",
   "execution_count": 11,
   "metadata": {
    "scrolled": true
   },
   "outputs": [
    {
     "data": {
      "text/html": [
       "<div>\n",
       "<style>\n",
       "    .dataframe thead tr:only-child th {\n",
       "        text-align: right;\n",
       "    }\n",
       "\n",
       "    .dataframe thead th {\n",
       "        text-align: left;\n",
       "    }\n",
       "\n",
       "    .dataframe tbody tr th {\n",
       "        vertical-align: top;\n",
       "    }\n",
       "</style>\n",
       "<table border=\"1\" class=\"dataframe\">\n",
       "  <thead>\n",
       "    <tr style=\"text-align: right;\">\n",
       "      <th></th>\n",
       "      <th>nr</th>\n",
       "      <th>naam</th>\n",
       "      <th>gesl</th>\n",
       "      <th>gebdat</th>\n",
       "      <th>wpl</th>\n",
       "      <th>vooropl</th>\n",
       "      <th>tel</th>\n",
       "      <th>woonplaats</th>\n",
       "      <th>leeftijd</th>\n",
       "    </tr>\n",
       "  </thead>\n",
       "  <tbody>\n",
       "    <tr>\n",
       "      <th>0</th>\n",
       "      <td>1004</td>\n",
       "      <td>tinus</td>\n",
       "      <td>m</td>\n",
       "      <td>1983-01-26</td>\n",
       "      <td>nue</td>\n",
       "      <td>VO</td>\n",
       "      <td>06-52477478</td>\n",
       "      <td>Nuenen</td>\n",
       "      <td>34.0</td>\n",
       "    </tr>\n",
       "    <tr>\n",
       "      <th>1</th>\n",
       "      <td>1005</td>\n",
       "      <td>henk</td>\n",
       "      <td>m</td>\n",
       "      <td>1961-04-12</td>\n",
       "      <td>nue</td>\n",
       "      <td>HBO</td>\n",
       "      <td>06-49945368</td>\n",
       "      <td>Nuenen</td>\n",
       "      <td>56.0</td>\n",
       "    </tr>\n",
       "    <tr>\n",
       "      <th>2</th>\n",
       "      <td>1019</td>\n",
       "      <td>klara</td>\n",
       "      <td>v</td>\n",
       "      <td>1962-07-26</td>\n",
       "      <td>nue</td>\n",
       "      <td>MBO</td>\n",
       "      <td>06-26209998</td>\n",
       "      <td>Nuenen</td>\n",
       "      <td>55.0</td>\n",
       "    </tr>\n",
       "  </tbody>\n",
       "</table>\n",
       "</div>"
      ],
      "text/plain": [
       "     nr   naam gesl     gebdat  wpl vooropl          tel woonplaats  leeftijd\n",
       "0  1004  tinus    m 1983-01-26  nue      VO  06-52477478     Nuenen      34.0\n",
       "1  1005   henk    m 1961-04-12  nue     HBO  06-49945368     Nuenen      56.0\n",
       "2  1019  klara    v 1962-07-26  nue     MBO  06-26209998     Nuenen      55.0"
      ]
     },
     "execution_count": 11,
     "metadata": {},
     "output_type": "execute_result"
    }
   ],
   "source": [
    "df_cust['leeftijd'] = (pd.to_datetime('today') - df_cust['gebdat']).astype('timedelta64[Y]')\n",
    "\n",
    "df_cust.head(3)"
   ]
  },
  {
   "cell_type": "markdown",
   "metadata": {},
   "source": [
    "Map age to the proper age segment so as to be able to merge with benchmark data."
   ]
  },
  {
   "cell_type": "code",
   "execution_count": 12,
   "metadata": {},
   "outputs": [
    {
     "data": {
      "text/html": [
       "<div>\n",
       "<style>\n",
       "    .dataframe thead tr:only-child th {\n",
       "        text-align: right;\n",
       "    }\n",
       "\n",
       "    .dataframe thead th {\n",
       "        text-align: left;\n",
       "    }\n",
       "\n",
       "    .dataframe tbody tr th {\n",
       "        vertical-align: top;\n",
       "    }\n",
       "</style>\n",
       "<table border=\"1\" class=\"dataframe\">\n",
       "  <thead>\n",
       "    <tr style=\"text-align: right;\">\n",
       "      <th></th>\n",
       "      <th>nr</th>\n",
       "      <th>naam</th>\n",
       "      <th>gesl</th>\n",
       "      <th>gebdat</th>\n",
       "      <th>wpl</th>\n",
       "      <th>vooropl</th>\n",
       "      <th>tel</th>\n",
       "      <th>woonplaats</th>\n",
       "      <th>leeftijd</th>\n",
       "      <th>segment</th>\n",
       "    </tr>\n",
       "  </thead>\n",
       "  <tbody>\n",
       "    <tr>\n",
       "      <th>0</th>\n",
       "      <td>1004</td>\n",
       "      <td>tinus</td>\n",
       "      <td>m</td>\n",
       "      <td>1983-01-26</td>\n",
       "      <td>nue</td>\n",
       "      <td>VO</td>\n",
       "      <td>06-52477478</td>\n",
       "      <td>Nuenen</td>\n",
       "      <td>34.0</td>\n",
       "      <td>25-39</td>\n",
       "    </tr>\n",
       "    <tr>\n",
       "      <th>1</th>\n",
       "      <td>1005</td>\n",
       "      <td>henk</td>\n",
       "      <td>m</td>\n",
       "      <td>1961-04-12</td>\n",
       "      <td>nue</td>\n",
       "      <td>HBO</td>\n",
       "      <td>06-49945368</td>\n",
       "      <td>Nuenen</td>\n",
       "      <td>56.0</td>\n",
       "      <td>40-58</td>\n",
       "    </tr>\n",
       "    <tr>\n",
       "      <th>2</th>\n",
       "      <td>1019</td>\n",
       "      <td>klara</td>\n",
       "      <td>v</td>\n",
       "      <td>1962-07-26</td>\n",
       "      <td>nue</td>\n",
       "      <td>MBO</td>\n",
       "      <td>06-26209998</td>\n",
       "      <td>Nuenen</td>\n",
       "      <td>55.0</td>\n",
       "      <td>40-58</td>\n",
       "    </tr>\n",
       "  </tbody>\n",
       "</table>\n",
       "</div>"
      ],
      "text/plain": [
       "     nr   naam gesl     gebdat  wpl vooropl          tel woonplaats  leeftijd  \\\n",
       "0  1004  tinus    m 1983-01-26  nue      VO  06-52477478     Nuenen      34.0   \n",
       "1  1005   henk    m 1961-04-12  nue     HBO  06-49945368     Nuenen      56.0   \n",
       "2  1019  klara    v 1962-07-26  nue     MBO  06-26209998     Nuenen      55.0   \n",
       "\n",
       "  segment  \n",
       "0   25-39  \n",
       "1   40-58  \n",
       "2   40-58  "
      ]
     },
     "execution_count": 12,
     "metadata": {},
     "output_type": "execute_result"
    }
   ],
   "source": [
    "def age_to_segment(n):\n",
    "    return ('18-24' if n < 25 else\n",
    "            '25-39' if n < 40 else\n",
    "            '40-58' if n < 59 else\n",
    "            '59-69' if n < 70 else\n",
    "            '70-100')\n",
    "        \n",
    "df_cust['segment'] = df_cust['leeftijd'].apply(age_to_segment)\n",
    "\n",
    "df_cust.head(3)"
   ]
  },
  {
   "cell_type": "markdown",
   "metadata": {},
   "source": [
    "Expand (merge) order data with customer data."
   ]
  },
  {
   "cell_type": "code",
   "execution_count": 13,
   "metadata": {},
   "outputs": [
    {
     "data": {
      "text/html": [
       "<div>\n",
       "<style>\n",
       "    .dataframe thead tr:only-child th {\n",
       "        text-align: right;\n",
       "    }\n",
       "\n",
       "    .dataframe thead th {\n",
       "        text-align: left;\n",
       "    }\n",
       "\n",
       "    .dataframe tbody tr th {\n",
       "        vertical-align: top;\n",
       "    }\n",
       "</style>\n",
       "<table border=\"1\" class=\"dataframe\">\n",
       "  <thead>\n",
       "    <tr style=\"text-align: right;\">\n",
       "      <th></th>\n",
       "      <th>nr</th>\n",
       "      <th>datum</th>\n",
       "      <th>bedrag</th>\n",
       "      <th>woonplaats</th>\n",
       "      <th>segment</th>\n",
       "    </tr>\n",
       "  </thead>\n",
       "  <tbody>\n",
       "    <tr>\n",
       "      <th>0</th>\n",
       "      <td>1009</td>\n",
       "      <td>2017-01-03</td>\n",
       "      <td>106</td>\n",
       "      <td>Veldhoven</td>\n",
       "      <td>40-58</td>\n",
       "    </tr>\n",
       "    <tr>\n",
       "      <th>1</th>\n",
       "      <td>1009</td>\n",
       "      <td>2017-02-17</td>\n",
       "      <td>254</td>\n",
       "      <td>Veldhoven</td>\n",
       "      <td>40-58</td>\n",
       "    </tr>\n",
       "    <tr>\n",
       "      <th>2</th>\n",
       "      <td>1009</td>\n",
       "      <td>2017-03-02</td>\n",
       "      <td>138</td>\n",
       "      <td>Veldhoven</td>\n",
       "      <td>40-58</td>\n",
       "    </tr>\n",
       "  </tbody>\n",
       "</table>\n",
       "</div>"
      ],
      "text/plain": [
       "     nr      datum  bedrag woonplaats segment\n",
       "0  1009 2017-01-03     106  Veldhoven   40-58\n",
       "1  1009 2017-02-17     254  Veldhoven   40-58\n",
       "2  1009 2017-03-02     138  Veldhoven   40-58"
      ]
     },
     "execution_count": 13,
     "metadata": {},
     "output_type": "execute_result"
    }
   ],
   "source": [
    "df_ord_ext = df_ord.merge(df_cust[['nr', 'woonplaats', 'segment']], on='nr')\n",
    "\n",
    "df_ord_ext.head(3)"
   ]
  },
  {
   "cell_type": "markdown",
   "metadata": {},
   "source": [
    "Group sales volume of orders by month, city and age segment."
   ]
  },
  {
   "cell_type": "code",
   "execution_count": 14,
   "metadata": {},
   "outputs": [
    {
     "name": "stdout",
     "output_type": "stream",
     "text": [
      "Index(['datum', 'woonplaats', 'segment', 'bedrag'], dtype='object')\n"
     ]
    },
    {
     "data": {
      "text/html": [
       "<div>\n",
       "<style>\n",
       "    .dataframe thead tr:only-child th {\n",
       "        text-align: right;\n",
       "    }\n",
       "\n",
       "    .dataframe thead th {\n",
       "        text-align: left;\n",
       "    }\n",
       "\n",
       "    .dataframe tbody tr th {\n",
       "        vertical-align: top;\n",
       "    }\n",
       "</style>\n",
       "<table border=\"1\" class=\"dataframe\">\n",
       "  <thead>\n",
       "    <tr style=\"text-align: right;\">\n",
       "      <th></th>\n",
       "      <th>maandnr</th>\n",
       "      <th>woonplaats</th>\n",
       "      <th>segment</th>\n",
       "      <th>bedrag</th>\n",
       "    </tr>\n",
       "  </thead>\n",
       "  <tbody>\n",
       "    <tr>\n",
       "      <th>0</th>\n",
       "      <td>1</td>\n",
       "      <td>Eindhoven</td>\n",
       "      <td>40-58</td>\n",
       "      <td>313</td>\n",
       "    </tr>\n",
       "    <tr>\n",
       "      <th>1</th>\n",
       "      <td>1</td>\n",
       "      <td>Eindhoven</td>\n",
       "      <td>59-69</td>\n",
       "      <td>110</td>\n",
       "    </tr>\n",
       "    <tr>\n",
       "      <th>2</th>\n",
       "      <td>1</td>\n",
       "      <td>Helmond</td>\n",
       "      <td>40-58</td>\n",
       "      <td>260</td>\n",
       "    </tr>\n",
       "    <tr>\n",
       "      <th>3</th>\n",
       "      <td>1</td>\n",
       "      <td>Nuenen</td>\n",
       "      <td>25-39</td>\n",
       "      <td>200</td>\n",
       "    </tr>\n",
       "    <tr>\n",
       "      <th>4</th>\n",
       "      <td>1</td>\n",
       "      <td>Nuenen</td>\n",
       "      <td>40-58</td>\n",
       "      <td>235</td>\n",
       "    </tr>\n",
       "  </tbody>\n",
       "</table>\n",
       "</div>"
      ],
      "text/plain": [
       "   maandnr woonplaats segment  bedrag\n",
       "0        1  Eindhoven   40-58     313\n",
       "1        1  Eindhoven   59-69     110\n",
       "2        1    Helmond   40-58     260\n",
       "3        1     Nuenen   25-39     200\n",
       "4        1     Nuenen   40-58     235"
      ]
     },
     "execution_count": 14,
     "metadata": {},
     "output_type": "execute_result"
    }
   ],
   "source": [
    "df_ord_ext = df_ord_ext.groupby([df_ord_ext['datum'].dt.month, 'woonplaats', 'segment'])['bedrag'].sum().reset_index()\n",
    "print(df_ord_ext.columns)\n",
    "\n",
    "df_ord_ext.rename(columns={'datum': 'maandnr'}, inplace=True)\n",
    "\n",
    "df_ord_ext.head()"
   ]
  },
  {
   "cell_type": "markdown",
   "metadata": {},
   "source": [
    "In order to map month numbers to (Dutch) month abbeviations, we first introduce a lookup table."
   ]
  },
  {
   "cell_type": "code",
   "execution_count": 15,
   "metadata": {},
   "outputs": [
    {
     "data": {
      "text/plain": [
       "0       \n",
       "1    jan\n",
       "2    feb\n",
       "3    mrt\n",
       "dtype: object"
      ]
     },
     "execution_count": 15,
     "metadata": {},
     "output_type": "execute_result"
    }
   ],
   "source": [
    "lut_month = pd.Series(['', 'jan', 'feb', 'mrt'])\n",
    "\n",
    "lut_month"
   ]
  },
  {
   "cell_type": "markdown",
   "metadata": {},
   "source": [
    "Now map month numbers to abbreviatted names."
   ]
  },
  {
   "cell_type": "code",
   "execution_count": 16,
   "metadata": {
    "scrolled": true
   },
   "outputs": [
    {
     "data": {
      "text/html": [
       "<div>\n",
       "<style>\n",
       "    .dataframe thead tr:only-child th {\n",
       "        text-align: right;\n",
       "    }\n",
       "\n",
       "    .dataframe thead th {\n",
       "        text-align: left;\n",
       "    }\n",
       "\n",
       "    .dataframe tbody tr th {\n",
       "        vertical-align: top;\n",
       "    }\n",
       "</style>\n",
       "<table border=\"1\" class=\"dataframe\">\n",
       "  <thead>\n",
       "    <tr style=\"text-align: right;\">\n",
       "      <th></th>\n",
       "      <th>maandnr</th>\n",
       "      <th>woonplaats</th>\n",
       "      <th>segment</th>\n",
       "      <th>bedrag</th>\n",
       "      <th>maand</th>\n",
       "    </tr>\n",
       "  </thead>\n",
       "  <tbody>\n",
       "    <tr>\n",
       "      <th>0</th>\n",
       "      <td>1</td>\n",
       "      <td>Eindhoven</td>\n",
       "      <td>40-58</td>\n",
       "      <td>313</td>\n",
       "      <td>jan</td>\n",
       "    </tr>\n",
       "    <tr>\n",
       "      <th>1</th>\n",
       "      <td>1</td>\n",
       "      <td>Eindhoven</td>\n",
       "      <td>59-69</td>\n",
       "      <td>110</td>\n",
       "      <td>jan</td>\n",
       "    </tr>\n",
       "    <tr>\n",
       "      <th>2</th>\n",
       "      <td>1</td>\n",
       "      <td>Helmond</td>\n",
       "      <td>40-58</td>\n",
       "      <td>260</td>\n",
       "      <td>jan</td>\n",
       "    </tr>\n",
       "    <tr>\n",
       "      <th>3</th>\n",
       "      <td>1</td>\n",
       "      <td>Nuenen</td>\n",
       "      <td>25-39</td>\n",
       "      <td>200</td>\n",
       "      <td>jan</td>\n",
       "    </tr>\n",
       "    <tr>\n",
       "      <th>4</th>\n",
       "      <td>1</td>\n",
       "      <td>Nuenen</td>\n",
       "      <td>40-58</td>\n",
       "      <td>235</td>\n",
       "      <td>jan</td>\n",
       "    </tr>\n",
       "  </tbody>\n",
       "</table>\n",
       "</div>"
      ],
      "text/plain": [
       "   maandnr woonplaats segment  bedrag maand\n",
       "0        1  Eindhoven   40-58     313   jan\n",
       "1        1  Eindhoven   59-69     110   jan\n",
       "2        1    Helmond   40-58     260   jan\n",
       "3        1     Nuenen   25-39     200   jan\n",
       "4        1     Nuenen   40-58     235   jan"
      ]
     },
     "execution_count": 16,
     "metadata": {},
     "output_type": "execute_result"
    }
   ],
   "source": [
    "df_ord_ext = df_ord_ext.merge(lut_month.to_frame(name='maand'), left_on='maandnr', right_index=True)\n",
    "\n",
    "df_ord_ext.head()"
   ]
  },
  {
   "cell_type": "markdown",
   "metadata": {},
   "source": [
    "Now merge benchmark sales figures with actual sales figures. We want to maintain all benchmark rows for which we have no actual sales."
   ]
  },
  {
   "cell_type": "code",
   "execution_count": 17,
   "metadata": {},
   "outputs": [
    {
     "data": {
      "text/html": [
       "<div>\n",
       "<style>\n",
       "    .dataframe thead tr:only-child th {\n",
       "        text-align: right;\n",
       "    }\n",
       "\n",
       "    .dataframe thead th {\n",
       "        text-align: left;\n",
       "    }\n",
       "\n",
       "    .dataframe tbody tr th {\n",
       "        vertical-align: top;\n",
       "    }\n",
       "</style>\n",
       "<table border=\"1\" class=\"dataframe\">\n",
       "  <thead>\n",
       "    <tr style=\"text-align: right;\">\n",
       "      <th></th>\n",
       "      <th>Plaats</th>\n",
       "      <th>Maand</th>\n",
       "      <th>Segment</th>\n",
       "      <th>Benchmark</th>\n",
       "      <th>bedrag</th>\n",
       "    </tr>\n",
       "  </thead>\n",
       "  <tbody>\n",
       "    <tr>\n",
       "      <th>27</th>\n",
       "      <td>Nuenen</td>\n",
       "      <td>jan</td>\n",
       "      <td>25-39</td>\n",
       "      <td>68</td>\n",
       "      <td>200.0</td>\n",
       "    </tr>\n",
       "    <tr>\n",
       "      <th>28</th>\n",
       "      <td>Veldhoven</td>\n",
       "      <td>jan</td>\n",
       "      <td>25-39</td>\n",
       "      <td>105</td>\n",
       "      <td>285.0</td>\n",
       "    </tr>\n",
       "    <tr>\n",
       "      <th>34</th>\n",
       "      <td>Veldhoven</td>\n",
       "      <td>feb</td>\n",
       "      <td>25-39</td>\n",
       "      <td>123</td>\n",
       "      <td>199.0</td>\n",
       "    </tr>\n",
       "    <tr>\n",
       "      <th>37</th>\n",
       "      <td>Eindhoven</td>\n",
       "      <td>mrt</td>\n",
       "      <td>25-39</td>\n",
       "      <td>92</td>\n",
       "      <td>12.0</td>\n",
       "    </tr>\n",
       "    <tr>\n",
       "      <th>40</th>\n",
       "      <td>Veldhoven</td>\n",
       "      <td>mrt</td>\n",
       "      <td>25-39</td>\n",
       "      <td>96</td>\n",
       "      <td>369.0</td>\n",
       "    </tr>\n",
       "    <tr>\n",
       "      <th>49</th>\n",
       "      <td>Eindhoven</td>\n",
       "      <td>jan</td>\n",
       "      <td>40-58</td>\n",
       "      <td>60</td>\n",
       "      <td>313.0</td>\n",
       "    </tr>\n",
       "    <tr>\n",
       "      <th>50</th>\n",
       "      <td>Helmond</td>\n",
       "      <td>jan</td>\n",
       "      <td>40-58</td>\n",
       "      <td>68</td>\n",
       "      <td>260.0</td>\n",
       "    </tr>\n",
       "    <tr>\n",
       "      <th>51</th>\n",
       "      <td>Nuenen</td>\n",
       "      <td>jan</td>\n",
       "      <td>40-58</td>\n",
       "      <td>85</td>\n",
       "      <td>235.0</td>\n",
       "    </tr>\n",
       "    <tr>\n",
       "      <th>52</th>\n",
       "      <td>Veldhoven</td>\n",
       "      <td>jan</td>\n",
       "      <td>40-58</td>\n",
       "      <td>68</td>\n",
       "      <td>106.0</td>\n",
       "    </tr>\n",
       "    <tr>\n",
       "      <th>56</th>\n",
       "      <td>Helmond</td>\n",
       "      <td>feb</td>\n",
       "      <td>40-58</td>\n",
       "      <td>109</td>\n",
       "      <td>279.0</td>\n",
       "    </tr>\n",
       "    <tr>\n",
       "      <th>57</th>\n",
       "      <td>Nuenen</td>\n",
       "      <td>feb</td>\n",
       "      <td>40-58</td>\n",
       "      <td>64</td>\n",
       "      <td>229.0</td>\n",
       "    </tr>\n",
       "    <tr>\n",
       "      <th>58</th>\n",
       "      <td>Veldhoven</td>\n",
       "      <td>feb</td>\n",
       "      <td>40-58</td>\n",
       "      <td>56</td>\n",
       "      <td>254.0</td>\n",
       "    </tr>\n",
       "    <tr>\n",
       "      <th>61</th>\n",
       "      <td>Eindhoven</td>\n",
       "      <td>mrt</td>\n",
       "      <td>40-58</td>\n",
       "      <td>127</td>\n",
       "      <td>122.0</td>\n",
       "    </tr>\n",
       "    <tr>\n",
       "      <th>62</th>\n",
       "      <td>Helmond</td>\n",
       "      <td>mrt</td>\n",
       "      <td>40-58</td>\n",
       "      <td>66</td>\n",
       "      <td>1049.0</td>\n",
       "    </tr>\n",
       "    <tr>\n",
       "      <th>63</th>\n",
       "      <td>Nuenen</td>\n",
       "      <td>mrt</td>\n",
       "      <td>40-58</td>\n",
       "      <td>84</td>\n",
       "      <td>234.0</td>\n",
       "    </tr>\n",
       "    <tr>\n",
       "      <th>64</th>\n",
       "      <td>Veldhoven</td>\n",
       "      <td>mrt</td>\n",
       "      <td>40-58</td>\n",
       "      <td>121</td>\n",
       "      <td>138.0</td>\n",
       "    </tr>\n",
       "    <tr>\n",
       "      <th>73</th>\n",
       "      <td>Eindhoven</td>\n",
       "      <td>jan</td>\n",
       "      <td>59-69</td>\n",
       "      <td>72</td>\n",
       "      <td>110.0</td>\n",
       "    </tr>\n",
       "    <tr>\n",
       "      <th>79</th>\n",
       "      <td>Eindhoven</td>\n",
       "      <td>feb</td>\n",
       "      <td>59-69</td>\n",
       "      <td>79</td>\n",
       "      <td>255.0</td>\n",
       "    </tr>\n",
       "    <tr>\n",
       "      <th>85</th>\n",
       "      <td>Eindhoven</td>\n",
       "      <td>mrt</td>\n",
       "      <td>59-69</td>\n",
       "      <td>115</td>\n",
       "      <td>10.0</td>\n",
       "    </tr>\n",
       "  </tbody>\n",
       "</table>\n",
       "</div>"
      ],
      "text/plain": [
       "       Plaats Maand Segment  Benchmark  bedrag\n",
       "27     Nuenen   jan   25-39         68   200.0\n",
       "28  Veldhoven   jan   25-39        105   285.0\n",
       "34  Veldhoven   feb   25-39        123   199.0\n",
       "37  Eindhoven   mrt   25-39         92    12.0\n",
       "40  Veldhoven   mrt   25-39         96   369.0\n",
       "49  Eindhoven   jan   40-58         60   313.0\n",
       "50    Helmond   jan   40-58         68   260.0\n",
       "51     Nuenen   jan   40-58         85   235.0\n",
       "52  Veldhoven   jan   40-58         68   106.0\n",
       "56    Helmond   feb   40-58        109   279.0\n",
       "57     Nuenen   feb   40-58         64   229.0\n",
       "58  Veldhoven   feb   40-58         56   254.0\n",
       "61  Eindhoven   mrt   40-58        127   122.0\n",
       "62    Helmond   mrt   40-58         66  1049.0\n",
       "63     Nuenen   mrt   40-58         84   234.0\n",
       "64  Veldhoven   mrt   40-58        121   138.0\n",
       "73  Eindhoven   jan   59-69         72   110.0\n",
       "79  Eindhoven   feb   59-69         79   255.0\n",
       "85  Eindhoven   mrt   59-69        115    10.0"
      ]
     },
     "execution_count": 17,
     "metadata": {},
     "output_type": "execute_result"
    }
   ],
   "source": [
    "df_actuals_vs_bm = df_bm.merge(\n",
    "    df_ord_ext, left_on=['Plaats', 'Segment', 'Maand'],\n",
    "    right_on=['woonplaats', 'segment', 'maand'],\n",
    "    how='left')[['Plaats', 'Maand', 'Segment', 'Benchmark', 'bedrag']]\n",
    "\n",
    "df_actuals_vs_bm[df_actuals_vs_bm['bedrag'] > 0]"
   ]
  },
  {
   "cell_type": "markdown",
   "metadata": {},
   "source": [
    "We can drill into a specific city/segment combination and visualize actuals vs benchmark. If we set a proper index, we can city and segement names to index the slice from the dataframe that we want to visualize."
   ]
  },
  {
   "cell_type": "code",
   "execution_count": 31,
   "metadata": {},
   "outputs": [
    {
     "data": {
      "image/png": "[encoded data removed]",
      "text/plain": [
       "<matplotlib.figure.Figure at 0xbfbfdd0>"
      ]
     },
     "metadata": {},
     "output_type": "display_data"
    }
   ],
   "source": [
    "(df_actuals_vs_bm.set_index(['Plaats', 'Segment', 'Maand'])\n",
    " .sort_index()\n",
    " .loc[('Veldhoven', '25-39')]\n",
    " .plot.bar(rot=0));"
   ]
  },
  {
   "cell_type": "code",
   "execution_count": 40,
   "metadata": {},
   "outputs": [
    {
     "data": {
      "text/plain": [
       "<matplotlib.axes._subplots.AxesSubplot at 0xdde6ed0>"
      ]
     },
     "execution_count": 40,
     "metadata": {},
     "output_type": "execute_result"
    },
    {
     "data": {
      "image/png": "[encoded data removed]",
      "text/plain": [
       "<matplotlib.figure.Figure at 0xde56f50>"
      ]
     },
     "metadata": {},
     "output_type": "display_data"
    }
   ],
   "source": [
    "df_actuals_vs_bm.pivot_table(index=['Segment'], aggfunc='sum').plot.bar(rot=0);"
   ]
  },
  {
   "cell_type": "markdown",
   "metadata": {},
   "source": [
    "You can make various drill downs on the dataframe and visualize different slices and pivot tables of the frame. However, multi-index slicing is not very straightforward in pandas and surely not suitable for an end user doing casual exploratory analysis. For that purpose, Excel is unbeatable.\n",
    "In order to use Excel's pivoting capabilities, we need to export the dataframe to an Excel table and then create a pivot table in Excel. We can't directly export a dataframe to an Excel pivot table as the Excel pivot table has a specific storage layout. (We could use something like XLWings, though, but XLWings uses the Excel API to eventually create an Excel pivot table.\n",
    "\n",
    "Let's export to a fresh Excel workbook."
   ]
  },
  {
   "cell_type": "code",
   "execution_count": 42,
   "metadata": {
    "collapsed": true
   },
   "outputs": [],
   "source": [
    "df_actuals_vs_bm.to_excel(pd.ExcelWriter('pandas.xlsx'),'data')"
   ]
  },
  {
   "cell_type": "markdown",
   "metadata": {},
   "source": [
    "Note that the Excel file will be overwritten each time `DataFrame.to_excel()` is ececuted. Therefore it is best to host the Excel pivot table in a new file (e.g. pandasPT.xlsx) that maintains a Power Query (Get Data) connection to the Excel file created by pandas."
   ]
  },
  {
   "cell_type": "markdown",
   "metadata": {},
   "source": [
    "Finally, in order to prepare for a seaborn faceted plot, we have to bring our dataframe to long format."
   ]
  },
  {
   "cell_type": "code",
   "execution_count": 22,
   "metadata": {
    "scrolled": true
   },
   "outputs": [
    {
     "data": {
      "text/html": [
       "<div>\n",
       "<style>\n",
       "    .dataframe thead tr:only-child th {\n",
       "        text-align: right;\n",
       "    }\n",
       "\n",
       "    .dataframe thead th {\n",
       "        text-align: left;\n",
       "    }\n",
       "\n",
       "    .dataframe tbody tr th {\n",
       "        vertical-align: top;\n",
       "    }\n",
       "</style>\n",
       "<table border=\"1\" class=\"dataframe\">\n",
       "  <thead>\n",
       "    <tr style=\"text-align: right;\">\n",
       "      <th></th>\n",
       "      <th>Plaats</th>\n",
       "      <th>Segment</th>\n",
       "      <th>Maand</th>\n",
       "      <th>Type</th>\n",
       "      <th>value</th>\n",
       "    </tr>\n",
       "  </thead>\n",
       "  <tbody>\n",
       "    <tr>\n",
       "      <th>0</th>\n",
       "      <td>Best</td>\n",
       "      <td>18-24</td>\n",
       "      <td>jan</td>\n",
       "      <td>Benchmark</td>\n",
       "      <td>68.0</td>\n",
       "    </tr>\n",
       "    <tr>\n",
       "      <th>1</th>\n",
       "      <td>Eindhoven</td>\n",
       "      <td>18-24</td>\n",
       "      <td>jan</td>\n",
       "      <td>Benchmark</td>\n",
       "      <td>93.0</td>\n",
       "    </tr>\n",
       "    <tr>\n",
       "      <th>2</th>\n",
       "      <td>Helmond</td>\n",
       "      <td>18-24</td>\n",
       "      <td>jan</td>\n",
       "      <td>Benchmark</td>\n",
       "      <td>70.0</td>\n",
       "    </tr>\n",
       "    <tr>\n",
       "      <th>3</th>\n",
       "      <td>Nuenen</td>\n",
       "      <td>18-24</td>\n",
       "      <td>jan</td>\n",
       "      <td>Benchmark</td>\n",
       "      <td>48.0</td>\n",
       "    </tr>\n",
       "    <tr>\n",
       "      <th>4</th>\n",
       "      <td>Veldhoven</td>\n",
       "      <td>18-24</td>\n",
       "      <td>jan</td>\n",
       "      <td>Benchmark</td>\n",
       "      <td>91.0</td>\n",
       "    </tr>\n",
       "  </tbody>\n",
       "</table>\n",
       "</div>"
      ],
      "text/plain": [
       "      Plaats Segment Maand       Type  value\n",
       "0       Best   18-24   jan  Benchmark   68.0\n",
       "1  Eindhoven   18-24   jan  Benchmark   93.0\n",
       "2    Helmond   18-24   jan  Benchmark   70.0\n",
       "3     Nuenen   18-24   jan  Benchmark   48.0\n",
       "4  Veldhoven   18-24   jan  Benchmark   91.0"
      ]
     },
     "execution_count": 22,
     "metadata": {},
     "output_type": "execute_result"
    }
   ],
   "source": [
    "df_long = df_actuals_vs_bm.melt(id_vars=['Plaats', 'Segment', 'Maand'], var_name='Type')\n",
    "\n",
    "df_long.head()"
   ]
  },
  {
   "cell_type": "code",
   "execution_count": 20,
   "metadata": {},
   "outputs": [
    {
     "data": {
      "image/png": "[encoded data removed]",
      "text/plain": [
       "<matplotlib.figure.Figure at 0xbc82e90>"
      ]
     },
     "metadata": {},
     "output_type": "display_data"
    }
   ],
   "source": [
    "import seaborn as sns\n",
    "\n",
    "sns.factorplot(data=df_long, x='Maand', y='value', hue='Type', row='Plaats', col='Segment', kind='bar');"
   ]
  }
 ],
 "metadata": {
  "kernelspec": {
   "display_name": "Python [conda root]",
   "language": "python",
   "name": "conda-root-py"
  },
  "language_info": {
   "codemirror_mode": {
    "name": "ipython",
    "version": 3
   },
   "file_extension": ".py",
   "mimetype": "text/x-python",
   "name": "python",
   "nbconvert_exporter": "python",
   "pygments_lexer": "ipython3",
   "version": "3.5.4"
  }
 },
 "nbformat": 4,
 "nbformat_minor": 2
}
