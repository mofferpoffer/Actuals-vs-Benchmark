{
 "cells": [
  {
   "cell_type": "markdown",
   "metadata": {},
   "source": [
    "# Comparing actuals with benchmark, using pandas with SQL"
   ]
  },
  {
   "cell_type": "markdown",
   "metadata": {},
   "source": [
    "We can achieve the same results we had in the ActualsVsBenchmark notebook, leveraging on the SQL skills we already acquired. In pandas, we can use the sqlite engine to do some dataframe processing. The sqlite engine is not as standards compliant as we might wish, but nevertheless it can come to goo use. Let's bring it on."
   ]
  },
  {
   "cell_type": "code",
   "execution_count": 1,
   "metadata": {
    "collapsed": true
   },
   "outputs": [],
   "source": [
    "%matplotlib inline\n",
    "\n",
    "import matplotlib.pyplot as plt\n",
    "from pandasql import *\n",
    "import numpy as np\n",
    "import pandas as pd\n",
    "import seaborn as sns\n",
    "\n",
    "sns.set()"
   ]
  },
  {
   "cell_type": "code",
   "execution_count": 2,
   "metadata": {},
   "outputs": [
    {
     "data": {
      "text/html": [
       "<div>\n",
       "<style>\n",
       "    .dataframe thead tr:only-child th {\n",
       "        text-align: right;\n",
       "    }\n",
       "\n",
       "    .dataframe thead th {\n",
       "        text-align: left;\n",
       "    }\n",
       "\n",
       "    .dataframe tbody tr th {\n",
       "        vertical-align: top;\n",
       "    }\n",
       "</style>\n",
       "<table border=\"1\" class=\"dataframe\">\n",
       "  <thead>\n",
       "    <tr style=\"text-align: right;\">\n",
       "      <th></th>\n",
       "      <th>Plaats</th>\n",
       "      <th>Maand</th>\n",
       "      <th>18-24</th>\n",
       "      <th>25-39</th>\n",
       "      <th>40-58</th>\n",
       "      <th>59-69</th>\n",
       "      <th>70-100</th>\n",
       "    </tr>\n",
       "  </thead>\n",
       "  <tbody>\n",
       "    <tr>\n",
       "      <th>0</th>\n",
       "      <td>Best</td>\n",
       "      <td>jan</td>\n",
       "      <td>68</td>\n",
       "      <td>76</td>\n",
       "      <td>76</td>\n",
       "      <td>122</td>\n",
       "      <td>108</td>\n",
       "    </tr>\n",
       "    <tr>\n",
       "      <th>1</th>\n",
       "      <td>Eindhoven</td>\n",
       "      <td>jan</td>\n",
       "      <td>93</td>\n",
       "      <td>60</td>\n",
       "      <td>60</td>\n",
       "      <td>72</td>\n",
       "      <td>137</td>\n",
       "    </tr>\n",
       "    <tr>\n",
       "      <th>2</th>\n",
       "      <td>Helmond</td>\n",
       "      <td>jan</td>\n",
       "      <td>70</td>\n",
       "      <td>99</td>\n",
       "      <td>68</td>\n",
       "      <td>70</td>\n",
       "      <td>124</td>\n",
       "    </tr>\n",
       "    <tr>\n",
       "      <th>3</th>\n",
       "      <td>Nuenen</td>\n",
       "      <td>jan</td>\n",
       "      <td>48</td>\n",
       "      <td>68</td>\n",
       "      <td>85</td>\n",
       "      <td>37</td>\n",
       "      <td>44</td>\n",
       "    </tr>\n",
       "    <tr>\n",
       "      <th>4</th>\n",
       "      <td>Veldhoven</td>\n",
       "      <td>jan</td>\n",
       "      <td>91</td>\n",
       "      <td>105</td>\n",
       "      <td>68</td>\n",
       "      <td>112</td>\n",
       "      <td>144</td>\n",
       "    </tr>\n",
       "  </tbody>\n",
       "</table>\n",
       "</div>"
      ],
      "text/plain": [
       "      Plaats Maand  18-24  25-39  40-58  59-69  70-100\n",
       "0       Best   jan     68     76     76    122     108\n",
       "1  Eindhoven   jan     93     60     60     72     137\n",
       "2    Helmond   jan     70     99     68     70     124\n",
       "3     Nuenen   jan     48     68     85     37      44\n",
       "4  Veldhoven   jan     91    105     68    112     144"
      ]
     },
     "execution_count": 2,
     "metadata": {},
     "output_type": "execute_result"
    }
   ],
   "source": [
    "import html5lib\n",
    "\n",
    "df_bm = pd.read_html('dummytxt.html')[0]\n",
    "df_bm.head()"
   ]
  },
  {
   "cell_type": "markdown",
   "metadata": {},
   "source": [
    "First we have to unpivot the age segement values. In plain pandas we used a melt() for this. In SQL we can do this using unions of partial tables. Less fancy but equally effective.\n",
    "\n",
    "Note the sqlite does not provide the standard SQL unpivot facility."
   ]
  },
  {
   "cell_type": "code",
   "execution_count": 14,
   "metadata": {
    "scrolled": true
   },
   "outputs": [
    {
     "data": {
      "text/html": [
       "<div>\n",
       "<style>\n",
       "    .dataframe thead tr:only-child th {\n",
       "        text-align: right;\n",
       "    }\n",
       "\n",
       "    .dataframe thead th {\n",
       "        text-align: left;\n",
       "    }\n",
       "\n",
       "    .dataframe tbody tr th {\n",
       "        vertical-align: top;\n",
       "    }\n",
       "</style>\n",
       "<table border=\"1\" class=\"dataframe\">\n",
       "  <thead>\n",
       "    <tr style=\"text-align: right;\">\n",
       "      <th></th>\n",
       "      <th>Plaats</th>\n",
       "      <th>Maand</th>\n",
       "      <th>Segment</th>\n",
       "      <th>Value</th>\n",
       "    </tr>\n",
       "  </thead>\n",
       "  <tbody>\n",
       "    <tr>\n",
       "      <th>0</th>\n",
       "      <td>Best</td>\n",
       "      <td>jan</td>\n",
       "      <td>18-24</td>\n",
       "      <td>68</td>\n",
       "    </tr>\n",
       "    <tr>\n",
       "      <th>1</th>\n",
       "      <td>Eindhoven</td>\n",
       "      <td>jan</td>\n",
       "      <td>18-24</td>\n",
       "      <td>93</td>\n",
       "    </tr>\n",
       "    <tr>\n",
       "      <th>2</th>\n",
       "      <td>Helmond</td>\n",
       "      <td>jan</td>\n",
       "      <td>18-24</td>\n",
       "      <td>70</td>\n",
       "    </tr>\n",
       "    <tr>\n",
       "      <th>3</th>\n",
       "      <td>Nuenen</td>\n",
       "      <td>jan</td>\n",
       "      <td>18-24</td>\n",
       "      <td>48</td>\n",
       "    </tr>\n",
       "    <tr>\n",
       "      <th>4</th>\n",
       "      <td>Veldhoven</td>\n",
       "      <td>jan</td>\n",
       "      <td>18-24</td>\n",
       "      <td>91</td>\n",
       "    </tr>\n",
       "  </tbody>\n",
       "</table>\n",
       "</div>"
      ],
      "text/plain": [
       "      Plaats Maand Segment  Value\n",
       "0       Best   jan   18-24     68\n",
       "1  Eindhoven   jan   18-24     93\n",
       "2    Helmond   jan   18-24     70\n",
       "3     Nuenen   jan   18-24     48\n",
       "4  Veldhoven   jan   18-24     91"
      ]
     },
     "execution_count": 14,
     "metadata": {},
     "output_type": "execute_result"
    }
   ],
   "source": [
    "qry = \"\"\"\n",
    "\n",
    "select Plaats, Maand,\n",
    "    '18-24' as Segment,\n",
    "    [18-24] as Value\n",
    "from df_bm\n",
    "union all\n",
    "select Plaats, Maand,\n",
    "    '25-39' as Segment,\n",
    "    [25-39] as Value\n",
    "from df_bm\n",
    "union all\n",
    "select Plaats, Maand,\n",
    "    '40-58' as Segment,\n",
    "    [40-58] as Value\n",
    "from df_bm\n",
    "union all\n",
    "select Plaats, Maand,\n",
    "    '59-69' as Segment,\n",
    "    [59-69] as Value\n",
    "from df_bm\n",
    "union all\n",
    "select Plaats, Maand,\n",
    "    '70-100' as Segment,\n",
    "    [70-100] as Value\n",
    "from df_bm\n",
    "\n",
    "\"\"\"\n",
    "\n",
    "sqldf(qry).head()"
   ]
  },
  {
   "cell_type": "code",
   "execution_count": 15,
   "metadata": {},
   "outputs": [
    {
     "data": {
      "text/html": [
       "<div>\n",
       "<style>\n",
       "    .dataframe thead tr:only-child th {\n",
       "        text-align: right;\n",
       "    }\n",
       "\n",
       "    .dataframe thead th {\n",
       "        text-align: left;\n",
       "    }\n",
       "\n",
       "    .dataframe tbody tr th {\n",
       "        vertical-align: top;\n",
       "    }\n",
       "</style>\n",
       "<table border=\"1\" class=\"dataframe\">\n",
       "  <thead>\n",
       "    <tr style=\"text-align: right;\">\n",
       "      <th></th>\n",
       "      <th>nr</th>\n",
       "      <th>datum</th>\n",
       "      <th>bedrag</th>\n",
       "    </tr>\n",
       "  </thead>\n",
       "  <tbody>\n",
       "    <tr>\n",
       "      <th>0</th>\n",
       "      <td>1009</td>\n",
       "      <td>2017-01-03</td>\n",
       "      <td>106</td>\n",
       "    </tr>\n",
       "    <tr>\n",
       "      <th>1</th>\n",
       "      <td>1012</td>\n",
       "      <td>2017-01-03</td>\n",
       "      <td>55</td>\n",
       "    </tr>\n",
       "    <tr>\n",
       "      <th>2</th>\n",
       "      <td>1006</td>\n",
       "      <td>2017-01-09</td>\n",
       "      <td>37</td>\n",
       "    </tr>\n",
       "  </tbody>\n",
       "</table>\n",
       "</div>"
      ],
      "text/plain": [
       "     nr      datum  bedrag\n",
       "0  1009 2017-01-03     106\n",
       "1  1012 2017-01-03      55\n",
       "2  1006 2017-01-09      37"
      ]
     },
     "execution_count": 15,
     "metadata": {},
     "output_type": "execute_result"
    }
   ],
   "source": [
    "df_ord = pd.read_excel('opdracht.xlsx', sheetname='sales')\n",
    "df_ord.head(3)"
   ]
  }
 ],
 "metadata": {
  "kernelspec": {
   "display_name": "Python [conda root]",
   "language": "python",
   "name": "conda-root-py"
  },
  "language_info": {
   "codemirror_mode": {
    "name": "ipython",
    "version": 3
   },
   "file_extension": ".py",
   "mimetype": "text/x-python",
   "name": "python",
   "nbconvert_exporter": "python",
   "pygments_lexer": "ipython3",
   "version": "3.5.4"
  }
 },
 "nbformat": 4,
 "nbformat_minor": 2
}
